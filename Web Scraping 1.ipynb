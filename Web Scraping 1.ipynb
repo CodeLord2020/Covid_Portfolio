{
 "cells": [
  {
   "cell_type": "code",
   "execution_count": 44,
   "id": "b7c46ebe",
   "metadata": {},
   "outputs": [],
   "source": [
    "#import library\n",
    "from bs4 import BeautifulSoup\n",
    "import requests\n",
    "import time\n",
    "import datetime\n",
    "import smtplib\n",
    "import os\n",
    "\n",
    "import openpyxl\n",
    "import pandas as pd\n",
    "import numpy as np\n",
    "import seaborn as sns\n",
    "import matplotlib.pyplot as plt"
   ]
  },
  {
   "cell_type": "code",
   "execution_count": 45,
   "id": "768f0d77",
   "metadata": {},
   "outputs": [],
   "source": []
  },
  {
   "cell_type": "code",
   "execution_count": 26,
   "id": "bea8639e",
   "metadata": {},
   "outputs": [
    {
     "name": "stdout",
     "output_type": "stream",
     "text": [
      "['Scraped IMDB Top Movies']\n"
     ]
    }
   ],
   "source": [
    "#Creating a new excel file file with openpyxl\n",
    "excel = openpyxl.Workbook()\n",
    "sheet = excel.active\n",
    "sheet.title = 'Scraped IMDB Top Movies'\n",
    "print(excel.sheetnames)\n",
    "sheet.append(['Movie rank', 'Movie Name', 'Year Realeased', 'IMDB rating'])"
   ]
  },
  {
   "cell_type": "code",
   "execution_count": 32,
   "id": "5f15e30a",
   "metadata": {
    "scrolled": false
   },
   "outputs": [
    {
     "name": "stdout",
     "output_type": "stream",
     "text": [
      "HTTPSConnectionPool(host='www.imdb.com', port=443): Max retries exceeded with url: /chart/top/ (Caused by NewConnectionError('<urllib3.connection.HTTPSConnection object at 0x000002B850DAAD00>: Failed to establish a new connection: [Errno 11001] getaddrinfo failed'))\n"
     ]
    }
   ],
   "source": [
    "try:\n",
    "    source_page = requests.get('https://www.imdb.com/chart/top/')\n",
    "    source_page.raise_for_status()  \n",
    "    \n",
    "    soup = BeautifulSoup(source_page.text, 'html.parser')\n",
    "    movies = soup.find('tbody', class_= 'lister-list').find_all('tr')\n",
    "    \n",
    "    \n",
    "    for movie in movies:\n",
    "        rank = movie.find('td', class_= 'titleColumn').get_text(strip = True).split('.')[0]\n",
    "        name = movie.find('td', class_= 'titleColumn').a.text\n",
    "        year = movie.find('td', class_= 'titleColumn').span.text.strip('()')\n",
    "        rate = movie.find('td', class_ = 'ratingColumn imdbRating').strong.text\n",
    "        sheet.append([rank, name, year, rate])\n",
    "        \n",
    "        \n",
    "    \n",
    "except Exception as e:\n",
    "    print(e)\n",
    "    \n",
    "excel.save('Scraped IMBD Data.xlsx')\n",
    "excel.save('Scraped bs4 IMBD Data.csv')\n"
   ]
  },
  {
   "cell_type": "code",
   "execution_count": 43,
   "id": "4a5140ff",
   "metadata": {
    "collapsed": true
   },
   "outputs": [
    {
     "data": {
      "text/html": [
       "<div>\n",
       "<style scoped>\n",
       "    .dataframe tbody tr th:only-of-type {\n",
       "        vertical-align: middle;\n",
       "    }\n",
       "\n",
       "    .dataframe tbody tr th {\n",
       "        vertical-align: top;\n",
       "    }\n",
       "\n",
       "    .dataframe thead th {\n",
       "        text-align: right;\n",
       "    }\n",
       "</style>\n",
       "<table border=\"1\" class=\"dataframe\">\n",
       "  <thead>\n",
       "    <tr style=\"text-align: right;\">\n",
       "      <th></th>\n",
       "      <th>Movie rank</th>\n",
       "      <th>Movie Name</th>\n",
       "      <th>Year Realeased</th>\n",
       "      <th>IMDB rating</th>\n",
       "    </tr>\n",
       "  </thead>\n",
       "  <tbody>\n",
       "    <tr>\n",
       "      <th>0</th>\n",
       "      <td>1</td>\n",
       "      <td>The Shawshank Redemption</td>\n",
       "      <td>1994</td>\n",
       "      <td>9.2</td>\n",
       "    </tr>\n",
       "    <tr>\n",
       "      <th>1</th>\n",
       "      <td>2</td>\n",
       "      <td>The Godfather</td>\n",
       "      <td>1972</td>\n",
       "      <td>9.2</td>\n",
       "    </tr>\n",
       "    <tr>\n",
       "      <th>2</th>\n",
       "      <td>3</td>\n",
       "      <td>The Dark Knight</td>\n",
       "      <td>2008</td>\n",
       "      <td>9.0</td>\n",
       "    </tr>\n",
       "    <tr>\n",
       "      <th>3</th>\n",
       "      <td>4</td>\n",
       "      <td>The Godfather Part II</td>\n",
       "      <td>1974</td>\n",
       "      <td>9.0</td>\n",
       "    </tr>\n",
       "    <tr>\n",
       "      <th>4</th>\n",
       "      <td>5</td>\n",
       "      <td>12 Angry Men</td>\n",
       "      <td>1957</td>\n",
       "      <td>9.0</td>\n",
       "    </tr>\n",
       "    <tr>\n",
       "      <th>5</th>\n",
       "      <td>6</td>\n",
       "      <td>Schindler's List</td>\n",
       "      <td>1993</td>\n",
       "      <td>8.9</td>\n",
       "    </tr>\n",
       "    <tr>\n",
       "      <th>6</th>\n",
       "      <td>7</td>\n",
       "      <td>The Lord of the Rings: The Return of the King</td>\n",
       "      <td>2003</td>\n",
       "      <td>8.9</td>\n",
       "    </tr>\n",
       "    <tr>\n",
       "      <th>7</th>\n",
       "      <td>8</td>\n",
       "      <td>Pulp Fiction</td>\n",
       "      <td>1994</td>\n",
       "      <td>8.8</td>\n",
       "    </tr>\n",
       "    <tr>\n",
       "      <th>8</th>\n",
       "      <td>9</td>\n",
       "      <td>The Lord of the Rings: The Fellowship of the Ring</td>\n",
       "      <td>2001</td>\n",
       "      <td>8.8</td>\n",
       "    </tr>\n",
       "    <tr>\n",
       "      <th>9</th>\n",
       "      <td>10</td>\n",
       "      <td>Il buono, il brutto, il cattivo</td>\n",
       "      <td>1966</td>\n",
       "      <td>8.8</td>\n",
       "    </tr>\n",
       "  </tbody>\n",
       "</table>\n",
       "</div>"
      ],
      "text/plain": [
       "   Movie rank                                         Movie Name  \\\n",
       "0           1                           The Shawshank Redemption   \n",
       "1           2                                      The Godfather   \n",
       "2           3                                    The Dark Knight   \n",
       "3           4                              The Godfather Part II   \n",
       "4           5                                       12 Angry Men   \n",
       "5           6                                   Schindler's List   \n",
       "6           7      The Lord of the Rings: The Return of the King   \n",
       "7           8                                       Pulp Fiction   \n",
       "8           9  The Lord of the Rings: The Fellowship of the Ring   \n",
       "9          10                    Il buono, il brutto, il cattivo   \n",
       "\n",
       "   Year Realeased  IMDB rating  \n",
       "0            1994          9.2  \n",
       "1            1972          9.2  \n",
       "2            2008          9.0  \n",
       "3            1974          9.0  \n",
       "4            1957          9.0  \n",
       "5            1993          8.9  \n",
       "6            2003          8.9  \n",
       "7            1994          8.8  \n",
       "8            2001          8.8  \n",
       "9            1966          8.8  "
      ]
     },
     "execution_count": 43,
     "metadata": {},
     "output_type": "execute_result"
    }
   ],
   "source": [
    "os.getcwd()\n",
    "df = pd.read_excel('Scraped IMBD Data.xlsx')\n",
    "#df = pd.read_csv('Scraped bs4 IMBD Data.csv')Not working\n",
    "\n",
    "df.head(10)"
   ]
  },
  {
   "cell_type": "code",
   "execution_count": 69,
   "id": "f2909fec",
   "metadata": {
    "scrolled": true
   },
   "outputs": [
    {
     "data": {
      "image/png": "[encoded data removed]",
      "text/plain": [
       "<Figure size 432x288 with 1 Axes>"
      ]
     },
     "metadata": {
      "needs_background": "light"
     },
     "output_type": "display_data"
    }
   ],
   "source": [
    "rate = df['IMDB rating']\n",
    "ax = plt.hist(rate, bins= 12, density=True, alpha=0.8, histtype='bar', edgecolor='black', orientation = 'vertical', color = 'red',)"
   ]
  },
  {
   "cell_type": "code",
   "execution_count": 65,
   "id": "498ba6f7",
   "metadata": {},
   "outputs": [],
   "source": [
    "plt.hist?"
   ]
  },
  {
   "cell_type": "code",
   "execution_count": 70,
   "id": "d4b60016",
   "metadata": {},
   "outputs": [],
   "source": [
    "#from urllib.error import HTTPError\n",
    "#from urllib.error import URLError\n",
    "#try:\n",
    "#    html = urlopen('http://www.pythonscraping.com/pages/page1.html')\n",
    "#except HTTPError as e:\n",
    "#    print(e)\n",
    "#except URLError as e:\n",
    "#    print('The server could not be found!')\n",
    "#else:\n",
    "#    print('It worked!')\n",
    " # program continues. Note: If you return or break in the \n",
    " # exception catch, you do not need to use the \"else\" statement"
   ]
  },
  {
   "cell_type": "code",
   "execution_count": 36,
   "id": "146faef4",
   "metadata": {},
   "outputs": [
    {
     "ename": "AttributeError",
     "evalue": "'NoneType' object has no attribute 'someTag'",
     "output_type": "error",
     "traceback": [
      "\u001b[1;31m-------------------------------------------------------------------------\u001b[0m",
      "\u001b[1;31mAttributeError\u001b[0m                          Traceback (most recent call last)",
      "\u001b[1;32m~\\AppData\\Local\\Temp/ipykernel_4756/2402693011.py\u001b[0m in \u001b[0;36m<module>\u001b[1;34m\u001b[0m\n\u001b[1;32m----> 1\u001b[1;33m \u001b[0mprint\u001b[0m\u001b[1;33m(\u001b[0m\u001b[0mbs\u001b[0m\u001b[1;33m.\u001b[0m\u001b[0mnonExistentTag\u001b[0m\u001b[1;33m.\u001b[0m\u001b[0msomeTag\u001b[0m\u001b[1;33m)\u001b[0m\u001b[1;33m\u001b[0m\u001b[1;33m\u001b[0m\u001b[0m\n\u001b[0m",
      "\u001b[1;31mAttributeError\u001b[0m: 'NoneType' object has no attribute 'someTag'"
     ]
    }
   ],
   "source": [
    "#from urllib.request import urlopen\n",
    "url = 'https://www.amazon.com/Funny-Data-Systems-Business-Analyst/dp/B07FNW9FGJ/ref=sr_1_3?dchild=1&keywords=data%2Banalyst%2Btshirt&qid=1626655184&sr=8-3&customId=B0752XJYNL&th=1'\n",
    "\n",
    "#get headers with httpbin.org/get\n",
    "headers = {\"User-Agent\": \"Mozilla/5.0 (Windows NT 10.0; Win64; x64) AppleWebKit/537.36 (KHTML, like Gecko) Chrome/107.0.0.0 Safari/537.36 Edg/107.0.1418.62\"}\n",
    "page = requests.get(url, headers = headers)\n",
    "\n",
    "    \n",
    "#html = urlopen('http://www.pythonscraping.com/pages/page1.html')\n",
    "#print(html.read())\n",
    "\n",
    "bs = BeautifulSoup(page.text, 'html.parser')\n",
    "Adj_bs = BeautifulSoup(bs.prettify(), 'html.parser')\n",
    "title = Adj_bs.find(id = 'productTitle').get_text()\n",
    "price = Adj_bs.find('span',{'class':'a-offscreen'}).get_text()\n",
    "\n",
    "\n",
    "#print(title)\n",
    "#print(price)\n",
    "\n",
    "#Amazon restricting get_text() gonna try a simple imdb page instead"
   ]
  },
  {
   "cell_type": "code",
   "execution_count": null,
   "id": "96eeafea",
   "metadata": {},
   "outputs": [],
   "source": []
  },
  {
   "cell_type": "code",
   "execution_count": null,
   "id": "8a5436ce",
   "metadata": {},
   "outputs": [],
   "source": []
  }
 ],
 "metadata": {
  "kernelspec": {
   "display_name": "Python 3 (ipykernel)",
   "language": "python",
   "name": "python3"
  },
  "language_info": {
   "codemirror_mode": {
    "name": "ipython",
    "version": 3
   },
   "file_extension": ".py",
   "mimetype": "text/x-python",
   "name": "python",
   "nbconvert_exporter": "python",
   "pygments_lexer": "ipython3",
   "version": "3.9.7"
  }
 },
 "nbformat": 4,
 "nbformat_minor": 5
}
